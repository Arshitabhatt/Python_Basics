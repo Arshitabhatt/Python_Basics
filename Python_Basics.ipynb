{
  "nbformat": 4,
  "nbformat_minor": 0,
  "metadata": {
    "colab": {
      "name": "Python Basics",
      "provenance": [],
      "collapsed_sections": [],
      "include_colab_link": true
    },
    "kernelspec": {
      "name": "python3",
      "display_name": "Python 3"
    }
  },
  "cells": [
    {
      "cell_type": "markdown",
      "metadata": {
        "id": "view-in-github",
        "colab_type": "text"
      },
      "source": [
        "<a href=\"https://colab.research.google.com/github/Arshitabhatt/Python_Basics/blob/master/Python_Basics.ipynb\" target=\"_parent\"><img src=\"https://colab.research.google.com/assets/colab-badge.svg\" alt=\"Open In Colab\"/></a>"
      ]
    },
    {
      "cell_type": "markdown",
      "metadata": {
        "id": "949BRQUWgB53",
        "colab_type": "text"
      },
      "source": [
        "Hello Everyone!\n",
        "Welcome to today's Python session.\n",
        "The target audience of today of anyone who wishes to learn!\n",
        "This colab notebook will be covering :- \n",
        "\n",
        "*   Variables and Data-types\n",
        "*   Operators\n",
        "*   Conditionals and Loops\n",
        "*   Functions\n",
        "*   List\n",
        "*   Strings\n",
        "*   Dictionary\n",
        "*   Tuple\n",
        "\n",
        "\n"
      ]
    },
    {
      "cell_type": "code",
      "metadata": {
        "id": "pHmc_X1-mRrB",
        "colab_type": "code",
        "outputId": "f7192342-cbed-4817-86fd-3c7de5407e37",
        "colab": {
          "base_uri": "https://localhost:8080/",
          "height": 33
        }
      },
      "source": [
        "# Welcoming students to python session\n",
        "x = \"Welcome Everyone\"\n",
        "print(x)"
      ],
      "execution_count": 0,
      "outputs": [
        {
          "output_type": "stream",
          "text": [
            "Welcome Everyone\n"
          ],
          "name": "stdout"
        }
      ]
    },
    {
      "cell_type": "code",
      "metadata": {
        "id": "yVi9vZdb7jCM",
        "colab_type": "code",
        "outputId": "b5c36d45-bcaf-47fd-b286-415393d5d8b1",
        "colab": {
          "base_uri": "https://localhost:8080/",
          "height": 83
        }
      },
      "source": [
        "#Data types : \n",
        "toffee = 10  #   Integers and Float\n",
        "x = \"Diwali is festival of lights\"#   String\n",
        "y = True    #   Boolean\n",
        "z = False  \n",
        "print(toffee)\n",
        "print(x)\n",
        "# Python is case sensitive language toffee != Toffee\n",
        "# data-type of a variable can be checked using type()\n",
        "print(type(toffee))\n",
        "print(type(z))\n"
      ],
      "execution_count": 0,
      "outputs": [
        {
          "output_type": "stream",
          "text": [
            "10\n",
            "Diwali is festival of lights\n",
            "<class 'int'>\n",
            "<class 'bool'>\n"
          ],
          "name": "stdout"
        }
      ]
    },
    {
      "cell_type": "code",
      "metadata": {
        "id": "ZRskK9ui8p7n",
        "colab_type": "code",
        "outputId": "7e8daf16-b231-4e6b-a2ef-edc3516e6947",
        "colab": {
          "base_uri": "https://localhost:8080/",
          "height": 150
        }
      },
      "source": [
        "# Arithmetic Operators\n",
        "a = 15\n",
        "b = 4\n",
        "c = a + b\n",
        "print(c)\n",
        "c = a - b\n",
        "print(c)\n",
        "c = a * b\n",
        "print(c)\n",
        "c = a/b\n",
        "print(c)\n",
        "c = a % b\n",
        "print(c)\n",
        "c = a ** b\n",
        "print(c)\n",
        "c = a // b\n",
        "print(c)\n",
        "# highest ->  lowest = Parentheses, Exponents, Multiplication/Division, Addition/Subtraction.\n",
        "d = 5\n",
        "c = - (a + d)/b\n",
        "print(c)\n",
        "\n",
        "# builtin function min, max etc,"
      ],
      "execution_count": 0,
      "outputs": [
        {
          "output_type": "stream",
          "text": [
            "19\n",
            "11\n",
            "60\n",
            "3.75\n",
            "3\n",
            "50625\n",
            "3\n",
            "-5.0\n"
          ],
          "name": "stdout"
        }
      ]
    },
    {
      "cell_type": "code",
      "metadata": {
        "id": "hVS-fjo2AOcR",
        "colab_type": "code",
        "outputId": "81137d51-6203-4522-ece1-fbdbbf270b28",
        "colab": {
          "base_uri": "https://localhost:8080/",
          "height": 83
        }
      },
      "source": [
        "#Conditionals\n",
        "toffees = 10\n",
        "chocolates = 15\n",
        "if toffees > chocolates:\n",
        "  print(\"We love toffees!\")\n",
        "else:\n",
        "  print(\"We love chocolates!\")\n",
        "\n",
        "# nested if-else\n",
        "cakes = 20\n",
        "if toffees > chocolates:\n",
        "  print(\"We love toffees!\")\n",
        "elif cakes > chocolates:\n",
        "  print(\"We love cakes!\")\n",
        "else:\n",
        "  print(\"We love chocolates!\")\n",
        "# Conditional Operators include\n",
        "# >, <, >=, <=, ==, !=\n",
        "\n",
        "a = 153.0 # type float\n",
        "b = 153   #type int\n",
        "print(a == b)\n",
        "c = '153'\n",
        "print( c == a)\n"
      ],
      "execution_count": 0,
      "outputs": [
        {
          "output_type": "stream",
          "text": [
            "We love chocolates!\n",
            "We love cakes!\n",
            "True\n",
            "False\n"
          ],
          "name": "stdout"
        }
      ]
    },
    {
      "cell_type": "code",
      "metadata": {
        "id": "ES_HQH__96c7",
        "colab_type": "code",
        "outputId": "53bc2c34-52e5-4683-f6b3-80b0ef5a6740",
        "colab": {
          "base_uri": "https://localhost:8080/",
          "height": 83
        }
      },
      "source": [
        "#Loop\n",
        "# While loop\n",
        "i = 0\n",
        "while i < 5:\n",
        "  print(\"for the \" + str(i) + \"th time, print \" + \"Ice-cream!!\")\n",
        "  i+=1.5\n",
        "  "
      ],
      "execution_count": 0,
      "outputs": [
        {
          "output_type": "stream",
          "text": [
            "for the 0th time, print Ice-cream!!\n",
            "for the 1.5th time, print Ice-cream!!\n",
            "for the 3.0th time, print Ice-cream!!\n",
            "for the 4.5th time, print Ice-cream!!\n"
          ],
          "name": "stdout"
        }
      ]
    },
    {
      "cell_type": "code",
      "metadata": {
        "id": "R2o3WJcjC7kB",
        "colab_type": "code",
        "outputId": "5dedf47a-746d-48f6-93e6-8eb1466d08a0",
        "colab": {
          "base_uri": "https://localhost:8080/",
          "height": 83
        }
      },
      "source": [
        "# for loop\n",
        "print(\"Consistent and determined program, constantly adding 1 to variable i\")\n",
        "for i in range (10):\n",
        "  print(i+1, end = ' ')\n",
        "# shorter way of writing this loop\n",
        "print(\"\\nShorter way using list comprehensions\")\n",
        "X = [n+1 for n in range(20)]\n",
        "print(X)"
      ],
      "execution_count": 1,
      "outputs": [
        {
          "output_type": "stream",
          "text": [
            "Consistent and determined program, constantly adding 1 to variable i\n",
            "1 2 3 4 5 6 7 8 9 10 \n",
            "Shorter way using list comprehensions\n",
            "[1, 2, 3, 4, 5, 6, 7, 8, 9, 10, 11, 12, 13, 14, 15, 16, 17, 18, 19, 20]\n"
          ],
          "name": "stdout"
        }
      ]
    },
    {
      "cell_type": "code",
      "metadata": {
        "id": "61EyngirEnoZ",
        "colab_type": "code",
        "colab": {
          "base_uri": "https://localhost:8080/",
          "height": 33
        },
        "outputId": "904b81b4-a931-4bcb-9e60-f7ebe614714c"
      },
      "source": [
        "# Apart from  builtin functions we can define our own function to perform tailor-made operation\n",
        "# it can be as simple as calculating sum of 2 number and as complicated as counting the number of galaxies in the universe!\n",
        "# To define a function we use keyword - def\n",
        "def sum_it(a, b):\n",
        "  print(\"sum is \" + str(a + b))\n",
        "sum_it(2, 3)"
      ],
      "execution_count": 4,
      "outputs": [
        {
          "output_type": "stream",
          "text": [
            "sum is 5\n"
          ],
          "name": "stdout"
        }
      ]
    },
    {
      "cell_type": "code",
      "metadata": {
        "id": "mQ7qeBjajLJ9",
        "colab_type": "code",
        "colab": {
          "base_uri": "https://localhost:8080/",
          "height": 33
        },
        "outputId": "8d9cf953-b06c-441a-f9e0-09dde92a1522"
      },
      "source": [
        "# every function have got some input arguments and must return something\n",
        "# if a function doesn't return anything then it a void function\n",
        "\n",
        "def fibonacci(n):\n",
        "  if(n==0 or n==1):\n",
        "    return 1\n",
        "  return fibonacci(n-1) + fibonacci(n-2)\n",
        "\n",
        "fibonacci(15)"
      ],
      "execution_count": 6,
      "outputs": [
        {
          "output_type": "execute_result",
          "data": {
            "text/plain": [
              "987"
            ]
          },
          "metadata": {
            "tags": []
          },
          "execution_count": 6
        }
      ]
    },
    {
      "cell_type": "code",
      "metadata": {
        "id": "FFe5XZ81j6cV",
        "colab_type": "code",
        "colab": {
          "base_uri": "https://localhost:8080/",
          "height": 167
        },
        "outputId": "c1cdbb8a-f7c6-434b-f9e9-88aee0e2b662"
      },
      "source": [
        "# a varible stores only one value at a time, but if you want to store multiple values then use Lists\n",
        "sqaure_terms = [1, 4, 36, 81, 49, 64, 9, 16, 25, 100]\n",
        "vacations = [\"London\", \"Venice\", \"Paris\", \"NYC\"]\n",
        "matrix = [\n",
        "          [1,2,3],\n",
        "          [4,5,6],\n",
        "          [11,12,13] ]\n",
        "# List are heterogenous arrays\n",
        "harry_potter = [7, \"Books\", 3, \"Friends\"]\n",
        "# each element in a list has got an index associated with it\n",
        "# using this index we can access the elements in the list\n",
        "print(vacations[0])\n",
        "print(matrix[1][2])\n",
        "# as there are +ve indicies, so are -ve ones\n",
        "print(sqaure_terms[-1])\n",
        "#there are certain methods by which we can access a range of elements from lists\n",
        "print(vacations[1:3])\n",
        "print(matrix[1][1:])\n",
        "# we can also values using index\n",
        "harry_potter[3] = \"Best Friends\"\n",
        "print(harry_potter)\n",
        "\n",
        "# some builtin function in lists\n",
        "print(len(vacations))\n",
        "\n",
        "sorted(sqaure_terms)\n",
        "print(sqaure_terms)\n",
        "\n",
        "vacations.append(\"Chennai\")\n",
        "print(vacations)"
      ],
      "execution_count": 27,
      "outputs": [
        {
          "output_type": "stream",
          "text": [
            "London\n",
            "6\n",
            "100\n",
            "['Venice', 'Paris']\n",
            "[5, 6]\n",
            "[7, 'Books', 3, 'Best Friends']\n",
            "4\n",
            "[1, 4, 36, 81, 49, 64, 9, 16, 25, 100]\n",
            "['London', 'Venice', 'Paris', 'NYC', 'Chennai']\n"
          ],
          "name": "stdout"
        }
      ]
    },
    {
      "cell_type": "code",
      "metadata": {
        "id": "yguiv-UYnRqJ",
        "colab_type": "code",
        "colab": {
          "base_uri": "https://localhost:8080/",
          "height": 33
        },
        "outputId": "4256aae3-be8b-4ce1-e293-0952854898b6"
      },
      "source": [
        "# We have already strings, lets manipulate it now!\n",
        "x = \"A REALLY BIG STRING\"\n",
        "x[4:10]"
      ],
      "execution_count": 29,
      "outputs": [
        {
          "output_type": "execute_result",
          "data": {
            "text/plain": [
              "'ALLY '"
            ]
          },
          "metadata": {
            "tags": []
          },
          "execution_count": 29
        }
      ]
    },
    {
      "cell_type": "code",
      "metadata": {
        "id": "e4XBjEeysGp2",
        "colab_type": "code",
        "colab": {}
      },
      "source": [
        ""
      ],
      "execution_count": 0,
      "outputs": []
    }
  ]
}