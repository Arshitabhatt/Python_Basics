{
  "nbformat": 4,
  "nbformat_minor": 0,
  "metadata": {
    "colab": {
      "name": "Python Basics",
      "provenance": [],
      "include_colab_link": true
    },
    "kernelspec": {
      "name": "python3",
      "display_name": "Python 3"
    }
  },
  "cells": [
    {
      "cell_type": "markdown",
      "metadata": {
        "id": "view-in-github",
        "colab_type": "text"
      },
      "source": [
        "<a href=\"https://colab.research.google.com/github/Arshitabhatt/Python_Basics/blob/master/Python_Basics.ipynb\" target=\"_parent\"><img src=\"https://colab.research.google.com/assets/colab-badge.svg\" alt=\"Open In Colab\"/></a>"
      ]
    },
    {
      "cell_type": "markdown",
      "metadata": {
        "id": "g6dBtxehgAOX",
        "colab_type": "text"
      },
      "source": [
        ""
      ]
    },
    {
      "cell_type": "markdown",
      "metadata": {
        "id": "949BRQUWgB53",
        "colab_type": "text"
      },
      "source": [
        "Hello Everyone!\n",
        "Welcome to today's Python session.\n",
        "The target audience of today of anyone who wishes to learn!\n",
        "This colab notebook will be covering :- \n",
        "\n",
        "*   Variables and Data-types\n",
        "*   Operators\n",
        "*   Conditionals and Loops\n",
        "*   Strings\n",
        "*   List\n",
        "*   Dictionary\n",
        "*   Tuple\n"
      ]
    },
    {
      "cell_type": "code",
      "metadata": {
        "id": "pHmc_X1-mRrB",
        "colab_type": "code",
        "outputId": "f7192342-cbed-4817-86fd-3c7de5407e37",
        "colab": {
          "base_uri": "https://localhost:8080/",
          "height": 33
        }
      },
      "source": [
        "# Welcoming students to python session\n",
        "x = \"Welcome Everyone\"\n",
        "print(x)"
      ],
      "execution_count": 2,
      "outputs": [
        {
          "output_type": "stream",
          "text": [
            "Welcome Everyone\n"
          ],
          "name": "stdout"
        }
      ]
    },
    {
      "cell_type": "code",
      "metadata": {
        "id": "yVi9vZdb7jCM",
        "colab_type": "code",
        "colab": {
          "base_uri": "https://localhost:8080/",
          "height": 83
        },
        "outputId": "b5c36d45-bcaf-47fd-b286-415393d5d8b1"
      },
      "source": [
        "#Data types : \n",
        "toffee = 10  #   Integers and Float\n",
        "x = \"Diwali is festival of lights\"#   String\n",
        "y = True    #   Boolean\n",
        "z = False  \n",
        "print(toffee)\n",
        "print(x)\n",
        "# Python is case sensitive language toffee != Toffee\n",
        "# data-type of a variable can be checked using type()\n",
        "print(type(toffee))\n",
        "print(type(z))\n"
      ],
      "execution_count": 5,
      "outputs": [
        {
          "output_type": "stream",
          "text": [
            "10\n",
            "Diwali is festival of lights\n",
            "<class 'int'>\n",
            "<class 'bool'>\n"
          ],
          "name": "stdout"
        }
      ]
    },
    {
      "cell_type": "code",
      "metadata": {
        "id": "ZRskK9ui8p7n",
        "colab_type": "code",
        "colab": {
          "base_uri": "https://localhost:8080/",
          "height": 150
        },
        "outputId": "7e8daf16-b231-4e6b-a2ef-edc3516e6947"
      },
      "source": [
        "# Arithmetic Operators\n",
        "a = 15\n",
        "b = 4\n",
        "c = a + b\n",
        "print(c)\n",
        "c = a - b\n",
        "print(c)\n",
        "c = a * b\n",
        "print(c)\n",
        "c = a/b\n",
        "print(c)\n",
        "c = a % b\n",
        "print(c)\n",
        "c = a ** b\n",
        "print(c)\n",
        "c = a // b\n",
        "print(c)\n",
        "# highest ->  lowest = Parentheses, Exponents, Multiplication/Division, Addition/Subtraction.\n",
        "d = 5\n",
        "c = - (a + d)/b\n",
        "print(c)\n",
        "\n",
        "# builtin function min, max etc,"
      ],
      "execution_count": 13,
      "outputs": [
        {
          "output_type": "stream",
          "text": [
            "19\n",
            "11\n",
            "60\n",
            "3.75\n",
            "3\n",
            "50625\n",
            "3\n",
            "-5.0\n"
          ],
          "name": "stdout"
        }
      ]
    },
    {
      "cell_type": "code",
      "metadata": {
        "id": "hVS-fjo2AOcR",
        "colab_type": "code",
        "colab": {
          "base_uri": "https://localhost:8080/",
          "height": 83
        },
        "outputId": "81137d51-6203-4522-ece1-fbdbbf270b28"
      },
      "source": [
        "#Conditionals\n",
        "toffees = 10\n",
        "chocolates = 15\n",
        "if toffees > chocolates:\n",
        "  print(\"We love toffees!\")\n",
        "else:\n",
        "  print(\"We love chocolates!\")\n",
        "\n",
        "# nested if-else\n",
        "cakes = 20\n",
        "if toffees > chocolates:\n",
        "  print(\"We love toffees!\")\n",
        "elif cakes > chocolates:\n",
        "  print(\"We love cakes!\")\n",
        "else:\n",
        "  print(\"We love chocolates!\")\n",
        "# Conditional Operators include\n",
        "# >, <, >=, <=, ==, !=\n",
        "\n",
        "a = 153.0 # type float\n",
        "b = 153   #type int\n",
        "print(a == b)\n",
        "c = '153'\n",
        "print( c == a)\n"
      ],
      "execution_count": 29,
      "outputs": [
        {
          "output_type": "stream",
          "text": [
            "We love chocolates!\n",
            "We love cakes!\n",
            "True\n",
            "False\n"
          ],
          "name": "stdout"
        }
      ]
    },
    {
      "cell_type": "code",
      "metadata": {
        "id": "ES_HQH__96c7",
        "colab_type": "code",
        "colab": {
          "base_uri": "https://localhost:8080/",
          "height": 83
        },
        "outputId": "53bc2c34-52e5-4683-f6b3-80b0ef5a6740"
      },
      "source": [
        "#Loop\n",
        "# While loop\n",
        "i = 0\n",
        "while i < 5:\n",
        "  print(\"for the \" + str(i) + \"th time, print \" + \"Ice-cream!!\")\n",
        "  i+=1.5\n",
        "  "
      ],
      "execution_count": 26,
      "outputs": [
        {
          "output_type": "stream",
          "text": [
            "for the 0th time, print Ice-cream!!\n",
            "for the 1.5th time, print Ice-cream!!\n",
            "for the 3.0th time, print Ice-cream!!\n",
            "for the 4.5th time, print Ice-cream!!\n"
          ],
          "name": "stdout"
        }
      ]
    },
    {
      "cell_type": "code",
      "metadata": {
        "id": "R2o3WJcjC7kB",
        "colab_type": "code",
        "colab": {
          "base_uri": "https://localhost:8080/",
          "height": 83
        },
        "outputId": "e4a8fb0e-700b-409f-d080-46e6ea439ed8"
      },
      "source": [
        "# for loop\n",
        "print(\"Consistent amd determined program, constantly adding 1 to variable i\")\n",
        "for i in range (10):\n",
        "  print(i+1, end = ' ')\n",
        "# shorter way of writing this loop\n",
        "print(\"\\nShorter way using list comprehensions\")\n",
        "X = [n+1 for n in range(20)]\n",
        "print(X)"
      ],
      "execution_count": 37,
      "outputs": [
        {
          "output_type": "stream",
          "text": [
            "Consistent amd determined program, constantly adding 1 to variable i\n",
            "1 2 3 4 5 6 7 8 9 10 \n",
            "Shorter way using list comprehensions\n",
            "[1, 2, 3, 4, 5, 6, 7, 8, 9, 10, 11, 12, 13, 14, 15, 16, 17, 18, 19, 20]\n"
          ],
          "name": "stdout"
        }
      ]
    },
    {
      "cell_type": "code",
      "metadata": {
        "id": "61EyngirEnoZ",
        "colab_type": "code",
        "colab": {}
      },
      "source": [
        ""
      ],
      "execution_count": 0,
      "outputs": []
    }
  ]
}